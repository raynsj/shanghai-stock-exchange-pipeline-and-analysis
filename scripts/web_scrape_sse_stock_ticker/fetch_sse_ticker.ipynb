{
 "cells": [
  {
   "cell_type": "code",
   "execution_count": 1,
   "id": "b52fa32d",
   "metadata": {},
   "outputs": [],
   "source": [
    "import requests\n",
    "from bs4 import BeautifulSoup\n",
    "import pandas as pd"
   ]
  },
  {
   "cell_type": "code",
   "execution_count": 2,
   "id": "8e76d63b",
   "metadata": {},
   "outputs": [],
   "source": [
    "url = \"https://stockanalysis.com/list/shanghai-stock-exchange/\"\n",
    "\n",
    "headers = {\n",
    "    'User-Agent': 'Mozilla/5.0 (Macintosh; Intel Mac OS X 10_15_7) AppleWebKit/537.36 (KHTML, like Gecko) Chrome/108.0.0.0 Safari/537.36'\n",
    "}"
   ]
  },
  {
   "cell_type": "code",
   "execution_count": 7,
   "id": "447dbb06",
   "metadata": {},
   "outputs": [],
   "source": [
    "try:\n",
    "    response = requests.get(url, headers=headers)\n",
    "    response.raise_for_status()  # Raise an error for bad responses\n",
    "\n",
    "    # Parsing the HTML Content\n",
    "    soup = BeautifulSoup(response.content, 'html.parser')\n",
    "\n",
    "    # Find all table cells 'td') with the class 'sym' which contains the stock tickers\n",
    "    ticker_cells = soup.find_all('td', class_='sym')\n",
    "\n",
    "    # Extracting the tickers\n",
    "    tickers_list = []\n",
    "    for cell in ticker_cells:\n",
    "        if cell.a:\n",
    "            tickers_list.append(cell.a.text.strip())\n",
    "\n",
    "    first_100_tickers = tickers_list[:100] \n",
    "except requests.exceptions.RequestException as e:\n",
    "    print(f\"An error occurred while fetching the data: {e}\")"
   ]
  },
  {
   "cell_type": "code",
   "execution_count": 8,
   "id": "afb4a8c3",
   "metadata": {},
   "outputs": [
    {
     "name": "stdout",
     "output_type": "stream",
     "text": [
      "Successfully scraped 100 tickers.\n",
      "    ticker\n",
      "0   601398\n",
      "1   601288\n",
      "2   601939\n",
      "3   600519\n",
      "4   600941\n",
      "..     ...\n",
      "95  601669\n",
      "96  600893\n",
      "97  600011\n",
      "98  600346\n",
      "99  688271\n",
      "\n",
      "[100 rows x 1 columns]\n"
     ]
    }
   ],
   "source": [
    "if first_100_tickers:\n",
    "    df = pd.DataFrame(first_100_tickers, columns=['ticker'])\n",
    "    print(f\"Successfully scraped {len(df)} tickers.\")\n",
    "    print(df)\n",
    "else:\n",
    "    print(\"No tickers found or an error occurred during scraping.\")"
   ]
  },
  {
   "cell_type": "code",
   "execution_count": null,
   "id": "e7472023",
   "metadata": {},
   "outputs": [],
   "source": []
  }
 ],
 "metadata": {
  "kernelspec": {
   "display_name": "oakcean",
   "language": "python",
   "name": "python3"
  },
  "language_info": {
   "codemirror_mode": {
    "name": "ipython",
    "version": 3
   },
   "file_extension": ".py",
   "mimetype": "text/x-python",
   "name": "python",
   "nbconvert_exporter": "python",
   "pygments_lexer": "ipython3",
   "version": "3.13.5"
  }
 },
 "nbformat": 4,
 "nbformat_minor": 5
}
